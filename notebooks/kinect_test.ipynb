{
 "cells": [
  {
   "cell_type": "code",
   "execution_count": 3,
   "id": "874d9f9d",
   "metadata": {},
   "outputs": [
    {
     "ename": "AttributeError",
     "evalue": "'int' object has no attribute 'value'",
     "output_type": "error",
     "traceback": [
      "\u001b[1;31m---------------------------------------------------------------------------\u001b[0m",
      "\u001b[1;31mAttributeError\u001b[0m                            Traceback (most recent call last)",
      "Cell \u001b[1;32mIn[3], line 1\u001b[0m\n\u001b[1;32m----> 1\u001b[0m \u001b[38;5;28;01mfrom\u001b[39;00m\u001b[38;5;250m \u001b[39m\u001b[38;5;21;01mpykinect\u001b[39;00m\u001b[38;5;250m \u001b[39m\u001b[38;5;28;01mimport\u001b[39;00m nui\n",
      "File \u001b[1;32mc:\\Users\\Jason\\Desktop\\College\\Disseration\\Sandbox\\self_written_software\\SARndbox-python\\.venv\\lib\\site-packages\\pykinect\\nui\\__init__.py:22\u001b[0m\n\u001b[0;32m     19\u001b[0m \u001b[38;5;250m    \u001b[39m\u001b[38;5;124;03m\"\"\"Represents an error from a Kinect sensor\"\"\"\u001b[39;00m\n\u001b[0;32m     20\u001b[0m     \u001b[38;5;28;01mpass\u001b[39;00m\n\u001b[1;32m---> 22\u001b[0m \u001b[38;5;28;01mfrom\u001b[39;00m\u001b[38;5;250m \u001b[39m\u001b[38;5;21;01mpykinect\u001b[39;00m\u001b[38;5;21;01m.\u001b[39;00m\u001b[38;5;21;01mnui\u001b[39;00m\u001b[38;5;21;01m.\u001b[39;00m\u001b[38;5;21;01mstructs\u001b[39;00m\u001b[38;5;250m \u001b[39m\u001b[38;5;28;01mimport\u001b[39;00m (ImageDigitalZoom, ImageFrame, ImageResolution, \n\u001b[0;32m     23\u001b[0m                                   ImageType, ImageViewArea, JointId, \n\u001b[0;32m     24\u001b[0m                                   JointTrackingState, PlanarImage, SkeletonData, \n\u001b[0;32m     25\u001b[0m                                   SkeletonFrame, SkeletonFrameQuality, \n\u001b[0;32m     26\u001b[0m                                   SkeletonQuality, SkeletonTrackingState, \n\u001b[0;32m     27\u001b[0m                                   TransformSmoothParameters, Vector, _Enumeration)\n\u001b[0;32m     29\u001b[0m \u001b[38;5;28;01mfrom\u001b[39;00m\u001b[38;5;250m \u001b[39m\u001b[38;5;21;01m_interop\u001b[39;00m\u001b[38;5;250m \u001b[39m\u001b[38;5;28;01mimport\u001b[39;00m (_CreateEvent, _CloseHandle, _WaitForSingleObject, \n\u001b[0;32m     30\u001b[0m                       _WaitForMultipleObjects, _WAIT_OBJECT_0, _INFINITE, \n\u001b[0;32m     31\u001b[0m                       _SysFreeString, _NuiInstance, _NuiCreateSensorByIndex, \n\u001b[0;32m     32\u001b[0m                       _NuiGetSensorCount)\n\u001b[0;32m     35\u001b[0m _NUI_IMAGE_PLAYER_INDEX_SHIFT      \u001b[38;5;241m=\u001b[39m    \u001b[38;5;241m3\u001b[39m\n",
      "File \u001b[1;32mc:\\Users\\Jason\\Desktop\\College\\Disseration\\Sandbox\\self_written_software\\SARndbox-python\\.venv\\lib\\site-packages\\pykinect\\nui\\structs.py:246\u001b[0m\n\u001b[0;32m    242\u001b[0m     ClippedTop    \u001b[38;5;241m=\u001b[39m \u001b[38;5;241m0x00000004\u001b[39m\n\u001b[0;32m    243\u001b[0m     ClippedBottom \u001b[38;5;241m=\u001b[39m \u001b[38;5;241m0x00000008\u001b[39m\n\u001b[1;32m--> 246\u001b[0m NUI_SKELETON_POSITION_COUNT \u001b[38;5;241m=\u001b[39m \u001b[43mJointId\u001b[49m\u001b[38;5;241;43m.\u001b[39;49m\u001b[43mCount\u001b[49m\u001b[38;5;241;43m.\u001b[39;49m\u001b[43mvalue\u001b[49m\n\u001b[0;32m    249\u001b[0m \u001b[38;5;28;01mclass\u001b[39;00m\u001b[38;5;250m \u001b[39m\u001b[38;5;21;01mSkeletonData\u001b[39;00m(ctypes\u001b[38;5;241m.\u001b[39mStructure):\n\u001b[0;32m    250\u001b[0m \u001b[38;5;250m    \u001b[39m\u001b[38;5;124;03m\"\"\"Contains data that characterizes a skeleton.\"\"\"\u001b[39;00m\n",
      "\u001b[1;31mAttributeError\u001b[0m: 'int' object has no attribute 'value'"
     ]
    }
   ],
   "source": [
    "from pykinect import nui"
   ]
  }
 ],
 "metadata": {
  "kernelspec": {
   "display_name": "SARndbox-python (3.9.22)",
   "language": "python",
   "name": "python3"
  },
  "language_info": {
   "codemirror_mode": {
    "name": "ipython",
    "version": 3
   },
   "file_extension": ".py",
   "mimetype": "text/x-python",
   "name": "python",
   "nbconvert_exporter": "python",
   "pygments_lexer": "ipython3",
   "version": "3.9.22"
  }
 },
 "nbformat": 4,
 "nbformat_minor": 5
}
